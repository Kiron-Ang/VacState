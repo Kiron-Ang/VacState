{
  "nbformat": 4,
  "nbformat_minor": 0,
  "metadata": {
    "colab": {
      "provenance": [],
      "authorship_tag": "ABX9TyNa63+4nx5sNQGm0KQM5STz",
      "include_colab_link": true
    },
    "kernelspec": {
      "name": "ir",
      "display_name": "R"
    },
    "language_info": {
      "name": "R"
    }
  },
  "cells": [
    {
      "cell_type": "markdown",
      "metadata": {
        "id": "view-in-github",
        "colab_type": "text"
      },
      "source": [
        "<a href=\"https://colab.research.google.com/github/Kiron-Ang/Vaccination/blob/main/vaccination.ipynb\" target=\"_parent\"><img src=\"https://colab.research.google.com/assets/colab-badge.svg\" alt=\"Open In Colab\"/></a>"
      ]
    },
    {
      "cell_type": "code",
      "source": [
        "# Print R version\n",
        "R.version.string\n",
        "\n",
        "# Install RSocrata\n",
        "# github.com/chicago/rsocrata\n",
        "install.packages(\"RSocrata\")"
      ],
      "metadata": {
        "colab": {
          "base_uri": "https://localhost:8080/",
          "height": 143
        },
        "id": "NSG2uA7jp1rj",
        "outputId": "09516f48-1c42-4f3d-b1e8-8a580063a8ec"
      },
      "execution_count": 1,
      "outputs": [
        {
          "output_type": "display_data",
          "data": {
            "text/html": [
              "'R version 4.4.1 (2024-06-14)'"
            ],
            "text/markdown": "'R version 4.4.1 (2024-06-14)'",
            "text/latex": "'R version 4.4.1 (2024-06-14)'",
            "text/plain": [
              "[1] \"R version 4.4.1 (2024-06-14)\""
            ]
          },
          "metadata": {}
        },
        {
          "output_type": "stream",
          "name": "stderr",
          "text": [
            "Installing package into ‘/usr/local/lib/R/site-library’\n",
            "(as ‘lib’ is unspecified)\n",
            "\n",
            "also installing the dependency ‘plyr’\n",
            "\n",
            "\n"
          ]
        }
      ]
    },
    {
      "cell_type": "code",
      "source": [
        "# Load RSocrata\n",
        "library(\"RSocrata\")\n",
        "\n",
        "# Read data\n",
        "# dev.socrata.com/foundry/data.cdc.gov/ee48-w5t6\n",
        "# data.cdc.gov/Teen-Vaccinations/Vaccination-Coverage-among-Adolescents-13-17-Years/ee48-w5t6\n",
        "data = read.socrata(\"https://data.cdc.gov/resource/ee48-w5t6.json\")\n",
        "\n",
        "# Print data dimensions\n",
        "dim(data)\n",
        "\n",
        "# Print first 6 data lines\n",
        "head(data)"
      ],
      "metadata": {
        "colab": {
          "base_uri": "https://localhost:8080/",
          "height": 303
        },
        "id": "6MTcOCOgfykg",
        "outputId": "cff4fef8-a82d-4962-dfd8-bfface9e6a37"
      },
      "execution_count": 2,
      "outputs": [
        {
          "output_type": "display_data",
          "data": {
            "text/html": [
              "<style>\n",
              ".list-inline {list-style: none; margin:0; padding: 0}\n",
              ".list-inline>li {display: inline-block}\n",
              ".list-inline>li:not(:last-child)::after {content: \"\\00b7\"; padding: 0 .5ex}\n",
              "</style>\n",
              "<ol class=list-inline><li>27565</li><li>10</li></ol>\n"
            ],
            "text/markdown": "1. 27565\n2. 10\n\n\n",
            "text/latex": "\\begin{enumerate*}\n\\item 27565\n\\item 10\n\\end{enumerate*}\n",
            "text/plain": [
              "[1] 27565    10"
            ]
          },
          "metadata": {}
        },
        {
          "output_type": "display_data",
          "data": {
            "text/html": [
              "<table class=\"dataframe\">\n",
              "<caption>A data.frame: 6 × 10</caption>\n",
              "<thead>\n",
              "\t<tr><th></th><th scope=col>vaccine</th><th scope=col>dose</th><th scope=col>geography_type</th><th scope=col>geography</th><th scope=col>year_season</th><th scope=col>dimension_type</th><th scope=col>dimension</th><th scope=col>coverage_estimate</th><th scope=col>X_95_ci</th><th scope=col>population_sample_size</th></tr>\n",
              "\t<tr><th></th><th scope=col>&lt;chr&gt;</th><th scope=col>&lt;chr&gt;</th><th scope=col>&lt;chr&gt;</th><th scope=col>&lt;chr&gt;</th><th scope=col>&lt;chr&gt;</th><th scope=col>&lt;chr&gt;</th><th scope=col>&lt;chr&gt;</th><th scope=col>&lt;chr&gt;</th><th scope=col>&lt;chr&gt;</th><th scope=col>&lt;chr&gt;</th></tr>\n",
              "</thead>\n",
              "<tbody>\n",
              "\t<tr><th scope=row>1</th><td>HPV            </td><td>≥1 Dose, Males            </td><td>States/Local Areas</td><td>New York</td><td>2023</td><td>Age</td><td>13-17 Years</td><td>81.5</td><td>75.2 to 86.5</td><td>289</td></tr>\n",
              "\t<tr><th scope=row>2</th><td>Tetanus        </td><td>≥1 Dose Tdap              </td><td>States/Local Areas</td><td>New York</td><td>2023</td><td>Age</td><td>13-17 Years</td><td>90.2</td><td>86.8 to 92.8</td><td>559</td></tr>\n",
              "\t<tr><th scope=row>3</th><td>Tetanus        </td><td>≥1 Dose Td or Tdap        </td><td>States/Local Areas</td><td>New York</td><td>2023</td><td>Age</td><td>13-17 Years</td><td>93.6</td><td>90.9 to 95.5</td><td>559</td></tr>\n",
              "\t<tr><th scope=row>4</th><td>≥1 Dose MenACWY</td><td>                          </td><td>States/Local Areas</td><td>New York</td><td>2023</td><td>Age</td><td>13-17 Years</td><td>95.3</td><td>92.7 to 97.0</td><td>559</td></tr>\n",
              "\t<tr><th scope=row>5</th><td>HPV            </td><td>≥1 Dose, Males and Females</td><td>States/Local Areas</td><td>New York</td><td>2023</td><td>Age</td><td>13-17 Years</td><td>79.4</td><td>74.8 to 83.3</td><td>559</td></tr>\n",
              "\t<tr><th scope=row>6</th><td>HPV            </td><td>Up-to-Date, Males         </td><td>States/Local Areas</td><td>New York</td><td>2023</td><td>Age</td><td>13-17 Years</td><td>67.8</td><td>60.8 to 74.2</td><td>289</td></tr>\n",
              "</tbody>\n",
              "</table>\n"
            ],
            "text/markdown": "\nA data.frame: 6 × 10\n\n| <!--/--> | vaccine &lt;chr&gt; | dose &lt;chr&gt; | geography_type &lt;chr&gt; | geography &lt;chr&gt; | year_season &lt;chr&gt; | dimension_type &lt;chr&gt; | dimension &lt;chr&gt; | coverage_estimate &lt;chr&gt; | X_95_ci &lt;chr&gt; | population_sample_size &lt;chr&gt; |\n|---|---|---|---|---|---|---|---|---|---|---|\n| 1 | HPV             | ≥1 Dose, Males             | States/Local Areas | New York | 2023 | Age | 13-17 Years | 81.5 | 75.2 to 86.5 | 289 |\n| 2 | Tetanus         | ≥1 Dose Tdap               | States/Local Areas | New York | 2023 | Age | 13-17 Years | 90.2 | 86.8 to 92.8 | 559 |\n| 3 | Tetanus         | ≥1 Dose Td or Tdap         | States/Local Areas | New York | 2023 | Age | 13-17 Years | 93.6 | 90.9 to 95.5 | 559 |\n| 4 | ≥1 Dose MenACWY | <!----> | States/Local Areas | New York | 2023 | Age | 13-17 Years | 95.3 | 92.7 to 97.0 | 559 |\n| 5 | HPV             | ≥1 Dose, Males and Females | States/Local Areas | New York | 2023 | Age | 13-17 Years | 79.4 | 74.8 to 83.3 | 559 |\n| 6 | HPV             | Up-to-Date, Males          | States/Local Areas | New York | 2023 | Age | 13-17 Years | 67.8 | 60.8 to 74.2 | 289 |\n\n",
            "text/latex": "A data.frame: 6 × 10\n\\begin{tabular}{r|llllllllll}\n  & vaccine & dose & geography\\_type & geography & year\\_season & dimension\\_type & dimension & coverage\\_estimate & X\\_95\\_ci & population\\_sample\\_size\\\\\n  & <chr> & <chr> & <chr> & <chr> & <chr> & <chr> & <chr> & <chr> & <chr> & <chr>\\\\\n\\hline\n\t1 & HPV             & ≥1 Dose, Males             & States/Local Areas & New York & 2023 & Age & 13-17 Years & 81.5 & 75.2 to 86.5 & 289\\\\\n\t2 & Tetanus         & ≥1 Dose Tdap               & States/Local Areas & New York & 2023 & Age & 13-17 Years & 90.2 & 86.8 to 92.8 & 559\\\\\n\t3 & Tetanus         & ≥1 Dose Td or Tdap         & States/Local Areas & New York & 2023 & Age & 13-17 Years & 93.6 & 90.9 to 95.5 & 559\\\\\n\t4 & ≥1 Dose MenACWY &                            & States/Local Areas & New York & 2023 & Age & 13-17 Years & 95.3 & 92.7 to 97.0 & 559\\\\\n\t5 & HPV             & ≥1 Dose, Males and Females & States/Local Areas & New York & 2023 & Age & 13-17 Years & 79.4 & 74.8 to 83.3 & 559\\\\\n\t6 & HPV             & Up-to-Date, Males          & States/Local Areas & New York & 2023 & Age & 13-17 Years & 67.8 & 60.8 to 74.2 & 289\\\\\n\\end{tabular}\n",
            "text/plain": [
              "  vaccine         dose                       geography_type     geography\n",
              "1 HPV             ≥1 Dose, Males             States/Local Areas New York \n",
              "2 Tetanus         ≥1 Dose Tdap               States/Local Areas New York \n",
              "3 Tetanus         ≥1 Dose Td or Tdap         States/Local Areas New York \n",
              "4 ≥1 Dose MenACWY                            States/Local Areas New York \n",
              "5 HPV             ≥1 Dose, Males and Females States/Local Areas New York \n",
              "6 HPV             Up-to-Date, Males          States/Local Areas New York \n",
              "  year_season dimension_type dimension   coverage_estimate X_95_ci     \n",
              "1 2023        Age            13-17 Years 81.5              75.2 to 86.5\n",
              "2 2023        Age            13-17 Years 90.2              86.8 to 92.8\n",
              "3 2023        Age            13-17 Years 93.6              90.9 to 95.5\n",
              "4 2023        Age            13-17 Years 95.3              92.7 to 97.0\n",
              "5 2023        Age            13-17 Years 79.4              74.8 to 83.3\n",
              "6 2023        Age            13-17 Years 67.8              60.8 to 74.2\n",
              "  population_sample_size\n",
              "1 289                   \n",
              "2 559                   \n",
              "3 559                   \n",
              "4 559                   \n",
              "5 559                   \n",
              "6 289                   "
            ]
          },
          "metadata": {}
        }
      ]
    },
    {
      "cell_type": "code",
      "source": [
        "# Print unique vaccines\n",
        "unique(data$vaccine)"
      ],
      "metadata": {
        "colab": {
          "base_uri": "https://localhost:8080/",
          "height": 34
        },
        "id": "_CF-jnHWvdqo",
        "outputId": "c957ed0d-b69e-4e41-b8c7-76b180331662"
      },
      "execution_count": 3,
      "outputs": [
        {
          "output_type": "display_data",
          "data": {
            "text/html": [
              "<style>\n",
              ".list-inline {list-style: none; margin:0; padding: 0}\n",
              ".list-inline>li {display: inline-block}\n",
              ".list-inline>li:not(:last-child)::after {content: \"\\00b7\"; padding: 0 .5ex}\n",
              "</style>\n",
              "<ol class=list-inline><li>'HPV'</li><li>'Tetanus'</li><li>'≥1 Dose MenACWY'</li><li>'≥3 Doses HepB'</li><li>'≥2 Doses MMR'</li><li>'Varicella'</li><li>'≥2 Doses Hep A'</li></ol>\n"
            ],
            "text/markdown": "1. 'HPV'\n2. 'Tetanus'\n3. '≥1 Dose MenACWY'\n4. '≥3 Doses HepB'\n5. '≥2 Doses MMR'\n6. 'Varicella'\n7. '≥2 Doses Hep A'\n\n\n",
            "text/latex": "\\begin{enumerate*}\n\\item 'HPV'\n\\item 'Tetanus'\n\\item '≥1 Dose MenACWY'\n\\item '≥3 Doses HepB'\n\\item '≥2 Doses MMR'\n\\item 'Varicella'\n\\item '≥2 Doses Hep A'\n\\end{enumerate*}\n",
            "text/plain": [
              "[1] \"HPV\"             \"Tetanus\"         \"≥1 Dose MenACWY\" \"≥3 Doses HepB\"  \n",
              "[5] \"≥2 Doses MMR\"    \"Varicella\"       \"≥2 Doses Hep A\" "
            ]
          },
          "metadata": {}
        }
      ]
    },
    {
      "cell_type": "code",
      "source": [
        "# Filter data\n",
        "data = data[data$vaccine %in% c(\"HPV\", \"Tetanus\", \"≥1 Dose MenACWY\"), ]\n",
        "\n",
        "# Print data dimensions\n",
        "dim(data)"
      ],
      "metadata": {
        "colab": {
          "base_uri": "https://localhost:8080/",
          "height": 34
        },
        "id": "XYC2vS9JgpaP",
        "outputId": "f5bc275b-ed9a-4ddc-e551-7146e2c9e1b0"
      },
      "execution_count": 4,
      "outputs": [
        {
          "output_type": "display_data",
          "data": {
            "text/html": [
              "<style>\n",
              ".list-inline {list-style: none; margin:0; padding: 0}\n",
              ".list-inline>li {display: inline-block}\n",
              ".list-inline>li:not(:last-child)::after {content: \"\\00b7\"; padding: 0 .5ex}\n",
              "</style>\n",
              "<ol class=list-inline><li>18953</li><li>10</li></ol>\n"
            ],
            "text/markdown": "1. 18953\n2. 10\n\n\n",
            "text/latex": "\\begin{enumerate*}\n\\item 18953\n\\item 10\n\\end{enumerate*}\n",
            "text/plain": [
              "[1] 18953    10"
            ]
          },
          "metadata": {}
        }
      ]
    },
    {
      "cell_type": "code",
      "source": [
        "# Print vaccines and doses in order\n",
        "unique(data[c(\"vaccine\", \"dose\")][order(data$vaccine), ])"
      ],
      "metadata": {
        "colab": {
          "base_uri": "https://localhost:8080/",
          "height": 599
        },
        "id": "0pNAzpR5mtZM",
        "outputId": "9402b082-0cb4-4395-f281-ba967c74a6e9"
      },
      "execution_count": 5,
      "outputs": [
        {
          "output_type": "display_data",
          "data": {
            "text/html": [
              "<table class=\"dataframe\">\n",
              "<caption>A data.frame: 16 × 2</caption>\n",
              "<thead>\n",
              "\t<tr><th></th><th scope=col>vaccine</th><th scope=col>dose</th></tr>\n",
              "\t<tr><th></th><th scope=col>&lt;chr&gt;</th><th scope=col>&lt;chr&gt;</th></tr>\n",
              "</thead>\n",
              "<tbody>\n",
              "\t<tr><th scope=row>4</th><td>≥1 Dose MenACWY</td><td>                                                                    </td></tr>\n",
              "\t<tr><th scope=row>1</th><td>HPV            </td><td>≥1 Dose, Males                                                      </td></tr>\n",
              "\t<tr><th scope=row>5</th><td>HPV            </td><td>≥1 Dose, Males and Females                                          </td></tr>\n",
              "\t<tr><th scope=row>6</th><td>HPV            </td><td>Up-to-Date, Males                                                   </td></tr>\n",
              "\t<tr><th scope=row>7</th><td>HPV            </td><td>≥1 Dose, Females                                                    </td></tr>\n",
              "\t<tr><th scope=row>8</th><td>HPV            </td><td>Up-to-Date, Males and Females                                       </td></tr>\n",
              "\t<tr><th scope=row>19</th><td>HPV            </td><td>Up-to-Date, Females                                                 </td></tr>\n",
              "\t<tr><th scope=row>23</th><td>HPV            </td><td>≥2 Doses, Females                                                   </td></tr>\n",
              "\t<tr><th scope=row>82</th><td>HPV            </td><td>≥3 Doses, Females                                                   </td></tr>\n",
              "\t<tr><th scope=row>96</th><td>HPV            </td><td>≥3 Doses, Males and Females                                         </td></tr>\n",
              "\t<tr><th scope=row>243</th><td>HPV            </td><td>≥2 Doses, Males and Females                                         </td></tr>\n",
              "\t<tr><th scope=row>244</th><td>HPV            </td><td>≥2 Doses, Males                                                     </td></tr>\n",
              "\t<tr><th scope=row>419</th><td>HPV            </td><td>≥3 Doses, Males                                                     </td></tr>\n",
              "\t<tr><th scope=row>21687</th><td>HPV            </td><td>Series Completion (3 Dose) Among HPV Vaccination Initiators, Females</td></tr>\n",
              "\t<tr><th scope=row>2</th><td>Tetanus        </td><td>≥1 Dose Tdap                                                        </td></tr>\n",
              "\t<tr><th scope=row>3</th><td>Tetanus        </td><td>≥1 Dose Td or Tdap                                                  </td></tr>\n",
              "</tbody>\n",
              "</table>\n"
            ],
            "text/markdown": "\nA data.frame: 16 × 2\n\n| <!--/--> | vaccine &lt;chr&gt; | dose &lt;chr&gt; |\n|---|---|---|\n| 4 | ≥1 Dose MenACWY | <!----> |\n| 1 | HPV             | ≥1 Dose, Males                                                       |\n| 5 | HPV             | ≥1 Dose, Males and Females                                           |\n| 6 | HPV             | Up-to-Date, Males                                                    |\n| 7 | HPV             | ≥1 Dose, Females                                                     |\n| 8 | HPV             | Up-to-Date, Males and Females                                        |\n| 19 | HPV             | Up-to-Date, Females                                                  |\n| 23 | HPV             | ≥2 Doses, Females                                                    |\n| 82 | HPV             | ≥3 Doses, Females                                                    |\n| 96 | HPV             | ≥3 Doses, Males and Females                                          |\n| 243 | HPV             | ≥2 Doses, Males and Females                                          |\n| 244 | HPV             | ≥2 Doses, Males                                                      |\n| 419 | HPV             | ≥3 Doses, Males                                                      |\n| 21687 | HPV             | Series Completion (3 Dose) Among HPV Vaccination Initiators, Females |\n| 2 | Tetanus         | ≥1 Dose Tdap                                                         |\n| 3 | Tetanus         | ≥1 Dose Td or Tdap                                                   |\n\n",
            "text/latex": "A data.frame: 16 × 2\n\\begin{tabular}{r|ll}\n  & vaccine & dose\\\\\n  & <chr> & <chr>\\\\\n\\hline\n\t4 & ≥1 Dose MenACWY &                                                                     \\\\\n\t1 & HPV             & ≥1 Dose, Males                                                      \\\\\n\t5 & HPV             & ≥1 Dose, Males and Females                                          \\\\\n\t6 & HPV             & Up-to-Date, Males                                                   \\\\\n\t7 & HPV             & ≥1 Dose, Females                                                    \\\\\n\t8 & HPV             & Up-to-Date, Males and Females                                       \\\\\n\t19 & HPV             & Up-to-Date, Females                                                 \\\\\n\t23 & HPV             & ≥2 Doses, Females                                                   \\\\\n\t82 & HPV             & ≥3 Doses, Females                                                   \\\\\n\t96 & HPV             & ≥3 Doses, Males and Females                                         \\\\\n\t243 & HPV             & ≥2 Doses, Males and Females                                         \\\\\n\t244 & HPV             & ≥2 Doses, Males                                                     \\\\\n\t419 & HPV             & ≥3 Doses, Males                                                     \\\\\n\t21687 & HPV             & Series Completion (3 Dose) Among HPV Vaccination Initiators, Females\\\\\n\t2 & Tetanus         & ≥1 Dose Tdap                                                        \\\\\n\t3 & Tetanus         & ≥1 Dose Td or Tdap                                                  \\\\\n\\end{tabular}\n",
            "text/plain": [
              "      vaccine        \n",
              "4     ≥1 Dose MenACWY\n",
              "1     HPV            \n",
              "5     HPV            \n",
              "6     HPV            \n",
              "7     HPV            \n",
              "8     HPV            \n",
              "19    HPV            \n",
              "23    HPV            \n",
              "82    HPV            \n",
              "96    HPV            \n",
              "243   HPV            \n",
              "244   HPV            \n",
              "419   HPV            \n",
              "21687 HPV            \n",
              "2     Tetanus        \n",
              "3     Tetanus        \n",
              "      dose                                                                \n",
              "4                                                                         \n",
              "1     ≥1 Dose, Males                                                      \n",
              "5     ≥1 Dose, Males and Females                                          \n",
              "6     Up-to-Date, Males                                                   \n",
              "7     ≥1 Dose, Females                                                    \n",
              "8     Up-to-Date, Males and Females                                       \n",
              "19    Up-to-Date, Females                                                 \n",
              "23    ≥2 Doses, Females                                                   \n",
              "82    ≥3 Doses, Females                                                   \n",
              "96    ≥3 Doses, Males and Females                                         \n",
              "243   ≥2 Doses, Males and Females                                         \n",
              "244   ≥2 Doses, Males                                                     \n",
              "419   ≥3 Doses, Males                                                     \n",
              "21687 Series Completion (3 Dose) Among HPV Vaccination Initiators, Females\n",
              "2     ≥1 Dose Tdap                                                        \n",
              "3     ≥1 Dose Td or Tdap                                                  "
            ]
          },
          "metadata": {}
        }
      ]
    },
    {
      "cell_type": "code",
      "source": [
        "# Print unique dimension types\n",
        "unique(data$dimension_type)"
      ],
      "metadata": {
        "colab": {
          "base_uri": "https://localhost:8080/",
          "height": 34
        },
        "id": "qxYS7FT20PkW",
        "outputId": "b0d26999-25b1-4cf1-83ac-537e0f548766"
      },
      "execution_count": 6,
      "outputs": [
        {
          "output_type": "display_data",
          "data": {
            "text/html": [
              "<style>\n",
              ".list-inline {list-style: none; margin:0; padding: 0}\n",
              ".list-inline>li {display: inline-block}\n",
              ".list-inline>li:not(:last-child)::after {content: \"\\00b7\"; padding: 0 .5ex}\n",
              "</style>\n",
              "<ol class=list-inline><li>'Age'</li><li>'Insurance Coverage'</li><li>'Poverty'</li><li>'Race and Ethnicity'</li><li>'Urbanicity'</li><li>'Overall'</li></ol>\n"
            ],
            "text/markdown": "1. 'Age'\n2. 'Insurance Coverage'\n3. 'Poverty'\n4. 'Race and Ethnicity'\n5. 'Urbanicity'\n6. 'Overall'\n\n\n",
            "text/latex": "\\begin{enumerate*}\n\\item 'Age'\n\\item 'Insurance Coverage'\n\\item 'Poverty'\n\\item 'Race and Ethnicity'\n\\item 'Urbanicity'\n\\item 'Overall'\n\\end{enumerate*}\n",
            "text/plain": [
              "[1] \"Age\"                \"Insurance Coverage\" \"Poverty\"           \n",
              "[4] \"Race and Ethnicity\" \"Urbanicity\"         \"Overall\"           "
            ]
          },
          "metadata": {}
        }
      ]
    },
    {
      "cell_type": "code",
      "source": [
        "# Filter data\n",
        "data = data[data$dimension_type == \"Age\", ]\n",
        "\n",
        "# Print data dimensions\n",
        "dim(data)"
      ],
      "metadata": {
        "colab": {
          "base_uri": "https://localhost:8080/",
          "height": 34
        },
        "id": "SSltMFpg0fjv",
        "outputId": "860fce1b-94fc-4374-d01a-4315fc36af4f"
      },
      "execution_count": 7,
      "outputs": [
        {
          "output_type": "display_data",
          "data": {
            "text/html": [
              "<style>\n",
              ".list-inline {list-style: none; margin:0; padding: 0}\n",
              ".list-inline>li {display: inline-block}\n",
              ".list-inline>li:not(:last-child)::after {content: \"\\00b7\"; padding: 0 .5ex}\n",
              "</style>\n",
              "<ol class=list-inline><li>15715</li><li>10</li></ol>\n"
            ],
            "text/markdown": "1. 15715\n2. 10\n\n\n",
            "text/latex": "\\begin{enumerate*}\n\\item 15715\n\\item 10\n\\end{enumerate*}\n",
            "text/plain": [
              "[1] 15715    10"
            ]
          },
          "metadata": {}
        }
      ]
    },
    {
      "cell_type": "code",
      "source": [
        "# Print unique dimensions\n",
        "unique(data$dimension)"
      ],
      "metadata": {
        "colab": {
          "base_uri": "https://localhost:8080/",
          "height": 34
        },
        "id": "OUoG7sID1ZHU",
        "outputId": "ef25b33c-6fac-4733-d832-b82bdefc44cd"
      },
      "execution_count": 8,
      "outputs": [
        {
          "output_type": "display_data",
          "data": {
            "text/html": [
              "<style>\n",
              ".list-inline {list-style: none; margin:0; padding: 0}\n",
              ".list-inline>li {display: inline-block}\n",
              ".list-inline>li:not(:last-child)::after {content: \"\\00b7\"; padding: 0 .5ex}\n",
              "</style>\n",
              "<ol class=list-inline><li>'13-17 Years'</li><li>'13-15 Years'</li></ol>\n"
            ],
            "text/markdown": "1. '13-17 Years'\n2. '13-15 Years'\n\n\n",
            "text/latex": "\\begin{enumerate*}\n\\item '13-17 Years'\n\\item '13-15 Years'\n\\end{enumerate*}\n",
            "text/plain": [
              "[1] \"13-17 Years\" \"13-15 Years\""
            ]
          },
          "metadata": {}
        }
      ]
    },
    {
      "cell_type": "code",
      "source": [
        "# Filter data\n",
        "data = data[data$dimension == \"13-17 Years\", ]\n",
        "\n",
        "# Print data dimensions\n",
        "dim(data)"
      ],
      "metadata": {
        "colab": {
          "base_uri": "https://localhost:8080/",
          "height": 34
        },
        "id": "bVZ29htA1ltE",
        "outputId": "d65fc65e-1ec6-42b0-8265-c55fd3f44820"
      },
      "execution_count": 9,
      "outputs": [
        {
          "output_type": "display_data",
          "data": {
            "text/html": [
              "<style>\n",
              ".list-inline {list-style: none; margin:0; padding: 0}\n",
              ".list-inline>li {display: inline-block}\n",
              ".list-inline>li:not(:last-child)::after {content: \"\\00b7\"; padding: 0 .5ex}\n",
              "</style>\n",
              "<ol class=list-inline><li>11294</li><li>10</li></ol>\n"
            ],
            "text/markdown": "1. 11294\n2. 10\n\n\n",
            "text/latex": "\\begin{enumerate*}\n\\item 11294\n\\item 10\n\\end{enumerate*}\n",
            "text/plain": [
              "[1] 11294    10"
            ]
          },
          "metadata": {}
        }
      ]
    },
    {
      "cell_type": "code",
      "source": [
        "# Print first 6 data lines\n",
        "head(data)"
      ],
      "metadata": {
        "colab": {
          "base_uri": "https://localhost:8080/",
          "height": 286
        },
        "id": "vLeIiamA5nDU",
        "outputId": "36533d64-3688-4fe8-cf00-d5e9c995f82e"
      },
      "execution_count": 10,
      "outputs": [
        {
          "output_type": "display_data",
          "data": {
            "text/html": [
              "<table class=\"dataframe\">\n",
              "<caption>A data.frame: 6 × 10</caption>\n",
              "<thead>\n",
              "\t<tr><th></th><th scope=col>vaccine</th><th scope=col>dose</th><th scope=col>geography_type</th><th scope=col>geography</th><th scope=col>year_season</th><th scope=col>dimension_type</th><th scope=col>dimension</th><th scope=col>coverage_estimate</th><th scope=col>X_95_ci</th><th scope=col>population_sample_size</th></tr>\n",
              "\t<tr><th></th><th scope=col>&lt;chr&gt;</th><th scope=col>&lt;chr&gt;</th><th scope=col>&lt;chr&gt;</th><th scope=col>&lt;chr&gt;</th><th scope=col>&lt;chr&gt;</th><th scope=col>&lt;chr&gt;</th><th scope=col>&lt;chr&gt;</th><th scope=col>&lt;chr&gt;</th><th scope=col>&lt;chr&gt;</th><th scope=col>&lt;chr&gt;</th></tr>\n",
              "</thead>\n",
              "<tbody>\n",
              "\t<tr><th scope=row>1</th><td>HPV            </td><td>≥1 Dose, Males            </td><td>States/Local Areas</td><td>New York</td><td>2023</td><td>Age</td><td>13-17 Years</td><td>81.5</td><td>75.2 to 86.5</td><td>289</td></tr>\n",
              "\t<tr><th scope=row>2</th><td>Tetanus        </td><td>≥1 Dose Tdap              </td><td>States/Local Areas</td><td>New York</td><td>2023</td><td>Age</td><td>13-17 Years</td><td>90.2</td><td>86.8 to 92.8</td><td>559</td></tr>\n",
              "\t<tr><th scope=row>3</th><td>Tetanus        </td><td>≥1 Dose Td or Tdap        </td><td>States/Local Areas</td><td>New York</td><td>2023</td><td>Age</td><td>13-17 Years</td><td>93.6</td><td>90.9 to 95.5</td><td>559</td></tr>\n",
              "\t<tr><th scope=row>4</th><td>≥1 Dose MenACWY</td><td>                          </td><td>States/Local Areas</td><td>New York</td><td>2023</td><td>Age</td><td>13-17 Years</td><td>95.3</td><td>92.7 to 97.0</td><td>559</td></tr>\n",
              "\t<tr><th scope=row>5</th><td>HPV            </td><td>≥1 Dose, Males and Females</td><td>States/Local Areas</td><td>New York</td><td>2023</td><td>Age</td><td>13-17 Years</td><td>79.4</td><td>74.8 to 83.3</td><td>559</td></tr>\n",
              "\t<tr><th scope=row>6</th><td>HPV            </td><td>Up-to-Date, Males         </td><td>States/Local Areas</td><td>New York</td><td>2023</td><td>Age</td><td>13-17 Years</td><td>67.8</td><td>60.8 to 74.2</td><td>289</td></tr>\n",
              "</tbody>\n",
              "</table>\n"
            ],
            "text/markdown": "\nA data.frame: 6 × 10\n\n| <!--/--> | vaccine &lt;chr&gt; | dose &lt;chr&gt; | geography_type &lt;chr&gt; | geography &lt;chr&gt; | year_season &lt;chr&gt; | dimension_type &lt;chr&gt; | dimension &lt;chr&gt; | coverage_estimate &lt;chr&gt; | X_95_ci &lt;chr&gt; | population_sample_size &lt;chr&gt; |\n|---|---|---|---|---|---|---|---|---|---|---|\n| 1 | HPV             | ≥1 Dose, Males             | States/Local Areas | New York | 2023 | Age | 13-17 Years | 81.5 | 75.2 to 86.5 | 289 |\n| 2 | Tetanus         | ≥1 Dose Tdap               | States/Local Areas | New York | 2023 | Age | 13-17 Years | 90.2 | 86.8 to 92.8 | 559 |\n| 3 | Tetanus         | ≥1 Dose Td or Tdap         | States/Local Areas | New York | 2023 | Age | 13-17 Years | 93.6 | 90.9 to 95.5 | 559 |\n| 4 | ≥1 Dose MenACWY | <!----> | States/Local Areas | New York | 2023 | Age | 13-17 Years | 95.3 | 92.7 to 97.0 | 559 |\n| 5 | HPV             | ≥1 Dose, Males and Females | States/Local Areas | New York | 2023 | Age | 13-17 Years | 79.4 | 74.8 to 83.3 | 559 |\n| 6 | HPV             | Up-to-Date, Males          | States/Local Areas | New York | 2023 | Age | 13-17 Years | 67.8 | 60.8 to 74.2 | 289 |\n\n",
            "text/latex": "A data.frame: 6 × 10\n\\begin{tabular}{r|llllllllll}\n  & vaccine & dose & geography\\_type & geography & year\\_season & dimension\\_type & dimension & coverage\\_estimate & X\\_95\\_ci & population\\_sample\\_size\\\\\n  & <chr> & <chr> & <chr> & <chr> & <chr> & <chr> & <chr> & <chr> & <chr> & <chr>\\\\\n\\hline\n\t1 & HPV             & ≥1 Dose, Males             & States/Local Areas & New York & 2023 & Age & 13-17 Years & 81.5 & 75.2 to 86.5 & 289\\\\\n\t2 & Tetanus         & ≥1 Dose Tdap               & States/Local Areas & New York & 2023 & Age & 13-17 Years & 90.2 & 86.8 to 92.8 & 559\\\\\n\t3 & Tetanus         & ≥1 Dose Td or Tdap         & States/Local Areas & New York & 2023 & Age & 13-17 Years & 93.6 & 90.9 to 95.5 & 559\\\\\n\t4 & ≥1 Dose MenACWY &                            & States/Local Areas & New York & 2023 & Age & 13-17 Years & 95.3 & 92.7 to 97.0 & 559\\\\\n\t5 & HPV             & ≥1 Dose, Males and Females & States/Local Areas & New York & 2023 & Age & 13-17 Years & 79.4 & 74.8 to 83.3 & 559\\\\\n\t6 & HPV             & Up-to-Date, Males          & States/Local Areas & New York & 2023 & Age & 13-17 Years & 67.8 & 60.8 to 74.2 & 289\\\\\n\\end{tabular}\n",
            "text/plain": [
              "  vaccine         dose                       geography_type     geography\n",
              "1 HPV             ≥1 Dose, Males             States/Local Areas New York \n",
              "2 Tetanus         ≥1 Dose Tdap               States/Local Areas New York \n",
              "3 Tetanus         ≥1 Dose Td or Tdap         States/Local Areas New York \n",
              "4 ≥1 Dose MenACWY                            States/Local Areas New York \n",
              "5 HPV             ≥1 Dose, Males and Females States/Local Areas New York \n",
              "6 HPV             Up-to-Date, Males          States/Local Areas New York \n",
              "  year_season dimension_type dimension   coverage_estimate X_95_ci     \n",
              "1 2023        Age            13-17 Years 81.5              75.2 to 86.5\n",
              "2 2023        Age            13-17 Years 90.2              86.8 to 92.8\n",
              "3 2023        Age            13-17 Years 93.6              90.9 to 95.5\n",
              "4 2023        Age            13-17 Years 95.3              92.7 to 97.0\n",
              "5 2023        Age            13-17 Years 79.4              74.8 to 83.3\n",
              "6 2023        Age            13-17 Years 67.8              60.8 to 74.2\n",
              "  population_sample_size\n",
              "1 289                   \n",
              "2 559                   \n",
              "3 559                   \n",
              "4 559                   \n",
              "5 559                   \n",
              "6 289                   "
            ]
          },
          "metadata": {}
        }
      ]
    },
    {
      "cell_type": "code",
      "source": [
        "# Print unique geography types\n",
        "unique(data$geography_type)"
      ],
      "metadata": {
        "colab": {
          "base_uri": "https://localhost:8080/",
          "height": 34
        },
        "id": "IfmBYB125Yln",
        "outputId": "bd5bf553-361d-4466-8131-511edc900d60"
      },
      "execution_count": 11,
      "outputs": [
        {
          "output_type": "display_data",
          "data": {
            "text/html": [
              "<style>\n",
              ".list-inline {list-style: none; margin:0; padding: 0}\n",
              ".list-inline>li {display: inline-block}\n",
              ".list-inline>li:not(:last-child)::after {content: \"\\00b7\"; padding: 0 .5ex}\n",
              "</style>\n",
              "<ol class=list-inline><li>'States/Local Areas'</li><li>'HHS Regions/National'</li></ol>\n"
            ],
            "text/markdown": "1. 'States/Local Areas'\n2. 'HHS Regions/National'\n\n\n",
            "text/latex": "\\begin{enumerate*}\n\\item 'States/Local Areas'\n\\item 'HHS Regions/National'\n\\end{enumerate*}\n",
            "text/plain": [
              "[1] \"States/Local Areas\"   \"HHS Regions/National\""
            ]
          },
          "metadata": {}
        }
      ]
    },
    {
      "cell_type": "code",
      "source": [
        "# Filter data\n",
        "data = data[data$geography_type == \"States/Local Areas\", ]\n",
        "\n",
        "# Print data dimensions\n",
        "dim(data)"
      ],
      "metadata": {
        "colab": {
          "base_uri": "https://localhost:8080/",
          "height": 34
        },
        "id": "fFrjBkAz6y3X",
        "outputId": "e41c5dde-e9d4-4b61-d969-45b2582b80fb"
      },
      "execution_count": 12,
      "outputs": [
        {
          "output_type": "display_data",
          "data": {
            "text/html": [
              "<style>\n",
              ".list-inline {list-style: none; margin:0; padding: 0}\n",
              ".list-inline>li {display: inline-block}\n",
              ".list-inline>li:not(:last-child)::after {content: \"\\00b7\"; padding: 0 .5ex}\n",
              "</style>\n",
              "<ol class=list-inline><li>9507</li><li>10</li></ol>\n"
            ],
            "text/markdown": "1. 9507\n2. 10\n\n\n",
            "text/latex": "\\begin{enumerate*}\n\\item 9507\n\\item 10\n\\end{enumerate*}\n",
            "text/plain": [
              "[1] 9507   10"
            ]
          },
          "metadata": {}
        }
      ]
    },
    {
      "cell_type": "code",
      "source": [
        "# Print unique geographies\n",
        "unique(data$geography)"
      ],
      "metadata": {
        "colab": {
          "base_uri": "https://localhost:8080/",
          "height": 104
        },
        "id": "4wP9Rw-X7pyH",
        "outputId": "cf83465c-8fc9-43a4-ccac-fbf5c4f18ef3"
      },
      "execution_count": 13,
      "outputs": [
        {
          "output_type": "display_data",
          "data": {
            "text/html": [
              "<style>\n",
              ".list-inline {list-style: none; margin:0; padding: 0}\n",
              ".list-inline>li {display: inline-block}\n",
              ".list-inline>li:not(:last-child)::after {content: \"\\00b7\"; padding: 0 .5ex}\n",
              "</style>\n",
              "<ol class=list-inline><li>'New York'</li><li>'New Hampshire'</li><li>'Colorado'</li><li>'Nebraska'</li><li>'IL-Rest of state'</li><li>'IL-City of Chicago'</li><li>'PA-Philadelphia'</li><li>'PA-Rest of state'</li><li>'U.S. Virgin Islands'</li><li>'TX-Rest of state'</li><li>'Minnesota'</li><li>'Florida'</li><li>'Oklahoma'</li><li>'Nevada'</li><li>'Mississippi'</li><li>'Montana'</li><li>'Tennessee'</li><li>'Missouri'</li><li>'Washington'</li><li>'Guam'</li><li>'Maine'</li><li>'Kansas'</li><li>'Alabama'</li><li>'Utah'</li><li>'California'</li><li>'Alaska'</li><li>'Kentucky'</li><li>'Delaware'</li><li>'Texas'</li><li>'Idaho'</li><li>'Virginia'</li><li>'Iowa'</li><li>'Hawaii'</li><li>'Wyoming'</li><li>'Arkansas'</li><li>'Georgia'</li><li>'South Dakota'</li><li>'Connecticut'</li><li>'Oregon'</li><li>'Rhode Island'</li><li>'New Mexico'</li><li>'Michigan'</li><li>'Louisiana'</li><li>'West Virginia'</li><li>'Massachusetts'</li><li>'District of Columbia'</li><li>'TX-City of Houston'</li><li>'TX-Bexar County'</li><li>'Pennsylvania'</li><li>'North Carolina'</li><li>'Puerto Rico'</li><li>'Maryland'</li><li>'New Jersey'</li><li>'NY-City of New York'</li><li>'NY-Rest of state'</li><li>'North Dakota'</li><li>'TX-Dallas County'</li><li>'TX-El Paso County'</li><li>'TX-Tarrant County'</li><li>'TX-Hidalgo County'</li><li>'TX-Travis County'</li><li>'Wisconsin'</li><li>'Illinois'</li><li>'Ohio'</li><li>'Arizona'</li><li>'South Carolina'</li><li>'Indiana'</li><li>'Vermont'</li></ol>\n"
            ],
            "text/markdown": "1. 'New York'\n2. 'New Hampshire'\n3. 'Colorado'\n4. 'Nebraska'\n5. 'IL-Rest of state'\n6. 'IL-City of Chicago'\n7. 'PA-Philadelphia'\n8. 'PA-Rest of state'\n9. 'U.S. Virgin Islands'\n10. 'TX-Rest of state'\n11. 'Minnesota'\n12. 'Florida'\n13. 'Oklahoma'\n14. 'Nevada'\n15. 'Mississippi'\n16. 'Montana'\n17. 'Tennessee'\n18. 'Missouri'\n19. 'Washington'\n20. 'Guam'\n21. 'Maine'\n22. 'Kansas'\n23. 'Alabama'\n24. 'Utah'\n25. 'California'\n26. 'Alaska'\n27. 'Kentucky'\n28. 'Delaware'\n29. 'Texas'\n30. 'Idaho'\n31. 'Virginia'\n32. 'Iowa'\n33. 'Hawaii'\n34. 'Wyoming'\n35. 'Arkansas'\n36. 'Georgia'\n37. 'South Dakota'\n38. 'Connecticut'\n39. 'Oregon'\n40. 'Rhode Island'\n41. 'New Mexico'\n42. 'Michigan'\n43. 'Louisiana'\n44. 'West Virginia'\n45. 'Massachusetts'\n46. 'District of Columbia'\n47. 'TX-City of Houston'\n48. 'TX-Bexar County'\n49. 'Pennsylvania'\n50. 'North Carolina'\n51. 'Puerto Rico'\n52. 'Maryland'\n53. 'New Jersey'\n54. 'NY-City of New York'\n55. 'NY-Rest of state'\n56. 'North Dakota'\n57. 'TX-Dallas County'\n58. 'TX-El Paso County'\n59. 'TX-Tarrant County'\n60. 'TX-Hidalgo County'\n61. 'TX-Travis County'\n62. 'Wisconsin'\n63. 'Illinois'\n64. 'Ohio'\n65. 'Arizona'\n66. 'South Carolina'\n67. 'Indiana'\n68. 'Vermont'\n\n\n",
            "text/latex": "\\begin{enumerate*}\n\\item 'New York'\n\\item 'New Hampshire'\n\\item 'Colorado'\n\\item 'Nebraska'\n\\item 'IL-Rest of state'\n\\item 'IL-City of Chicago'\n\\item 'PA-Philadelphia'\n\\item 'PA-Rest of state'\n\\item 'U.S. Virgin Islands'\n\\item 'TX-Rest of state'\n\\item 'Minnesota'\n\\item 'Florida'\n\\item 'Oklahoma'\n\\item 'Nevada'\n\\item 'Mississippi'\n\\item 'Montana'\n\\item 'Tennessee'\n\\item 'Missouri'\n\\item 'Washington'\n\\item 'Guam'\n\\item 'Maine'\n\\item 'Kansas'\n\\item 'Alabama'\n\\item 'Utah'\n\\item 'California'\n\\item 'Alaska'\n\\item 'Kentucky'\n\\item 'Delaware'\n\\item 'Texas'\n\\item 'Idaho'\n\\item 'Virginia'\n\\item 'Iowa'\n\\item 'Hawaii'\n\\item 'Wyoming'\n\\item 'Arkansas'\n\\item 'Georgia'\n\\item 'South Dakota'\n\\item 'Connecticut'\n\\item 'Oregon'\n\\item 'Rhode Island'\n\\item 'New Mexico'\n\\item 'Michigan'\n\\item 'Louisiana'\n\\item 'West Virginia'\n\\item 'Massachusetts'\n\\item 'District of Columbia'\n\\item 'TX-City of Houston'\n\\item 'TX-Bexar County'\n\\item 'Pennsylvania'\n\\item 'North Carolina'\n\\item 'Puerto Rico'\n\\item 'Maryland'\n\\item 'New Jersey'\n\\item 'NY-City of New York'\n\\item 'NY-Rest of state'\n\\item 'North Dakota'\n\\item 'TX-Dallas County'\n\\item 'TX-El Paso County'\n\\item 'TX-Tarrant County'\n\\item 'TX-Hidalgo County'\n\\item 'TX-Travis County'\n\\item 'Wisconsin'\n\\item 'Illinois'\n\\item 'Ohio'\n\\item 'Arizona'\n\\item 'South Carolina'\n\\item 'Indiana'\n\\item 'Vermont'\n\\end{enumerate*}\n",
            "text/plain": [
              " [1] \"New York\"             \"New Hampshire\"        \"Colorado\"            \n",
              " [4] \"Nebraska\"             \"IL-Rest of state\"     \"IL-City of Chicago\"  \n",
              " [7] \"PA-Philadelphia\"      \"PA-Rest of state\"     \"U.S. Virgin Islands\" \n",
              "[10] \"TX-Rest of state\"     \"Minnesota\"            \"Florida\"             \n",
              "[13] \"Oklahoma\"             \"Nevada\"               \"Mississippi\"         \n",
              "[16] \"Montana\"              \"Tennessee\"            \"Missouri\"            \n",
              "[19] \"Washington\"           \"Guam\"                 \"Maine\"               \n",
              "[22] \"Kansas\"               \"Alabama\"              \"Utah\"                \n",
              "[25] \"California\"           \"Alaska\"               \"Kentucky\"            \n",
              "[28] \"Delaware\"             \"Texas\"                \"Idaho\"               \n",
              "[31] \"Virginia\"             \"Iowa\"                 \"Hawaii\"              \n",
              "[34] \"Wyoming\"              \"Arkansas\"             \"Georgia\"             \n",
              "[37] \"South Dakota\"         \"Connecticut\"          \"Oregon\"              \n",
              "[40] \"Rhode Island\"         \"New Mexico\"           \"Michigan\"            \n",
              "[43] \"Louisiana\"            \"West Virginia\"        \"Massachusetts\"       \n",
              "[46] \"District of Columbia\" \"TX-City of Houston\"   \"TX-Bexar County\"     \n",
              "[49] \"Pennsylvania\"         \"North Carolina\"       \"Puerto Rico\"         \n",
              "[52] \"Maryland\"             \"New Jersey\"           \"NY-City of New York\" \n",
              "[55] \"NY-Rest of state\"     \"North Dakota\"         \"TX-Dallas County\"    \n",
              "[58] \"TX-El Paso County\"    \"TX-Tarrant County\"    \"TX-Hidalgo County\"   \n",
              "[61] \"TX-Travis County\"     \"Wisconsin\"            \"Illinois\"            \n",
              "[64] \"Ohio\"                 \"Arizona\"              \"South Carolina\"      \n",
              "[67] \"Indiana\"              \"Vermont\"             "
            ]
          },
          "metadata": {}
        }
      ]
    },
    {
      "cell_type": "code",
      "source": [
        "# List of all 50 states and the District of Columbia\n",
        "states = c(\"Alabama\", \"Alaska\", \"Arizona\", \"Arkansas\", \"California\", \"Colorado\", \"Connecticut\",\n",
        "            \"Delaware\", \"Florida\", \"Georgia\", \"Hawaii\", \"Idaho\", \"Illinois\", \"Indiana\",\n",
        "            \"Iowa\", \"Kansas\", \"Kentucky\", \"Louisiana\", \"Maine\", \"Maryland\", \"Massachusetts\",\n",
        "            \"Michigan\", \"Minnesota\", \"Mississippi\", \"Missouri\", \"Montana\", \"Nebraska\",\n",
        "            \"Nevada\", \"New Hampshire\", \"New Jersey\", \"New Mexico\", \"New York\", \"North Carolina\",\n",
        "            \"North Dakota\", \"Ohio\", \"Oklahoma\", \"Oregon\", \"Pennsylvania\", \"Rhode Island\",\n",
        "            \"South Carolina\", \"South Dakota\", \"Tennessee\", \"Texas\", \"Utah\", \"Vermont\",\n",
        "            \"Virginia\", \"Washington\", \"West Virginia\", \"Wisconsin\", \"Wyoming\", \"District of Columbia\")\n",
        "\n",
        "# Filter data for all 50 states and the District of Columbia\n",
        "data = data[data$geography %in% states, ]\n",
        "\n",
        "# Print data dimensions\n",
        "dim(data)"
      ],
      "metadata": {
        "colab": {
          "base_uri": "https://localhost:8080/",
          "height": 34
        },
        "id": "-X9gWsQT7uFD",
        "outputId": "78b20a06-412c-48c0-8d48-9395b4c53553"
      },
      "execution_count": 14,
      "outputs": [
        {
          "output_type": "display_data",
          "data": {
            "text/html": [
              "<style>\n",
              ".list-inline {list-style: none; margin:0; padding: 0}\n",
              ".list-inline>li {display: inline-block}\n",
              ".list-inline>li:not(:last-child)::after {content: \"\\00b7\"; padding: 0 .5ex}\n",
              "</style>\n",
              "<ol class=list-inline><li>7702</li><li>10</li></ol>\n"
            ],
            "text/markdown": "1. 7702\n2. 10\n\n\n",
            "text/latex": "\\begin{enumerate*}\n\\item 7702\n\\item 10\n\\end{enumerate*}\n",
            "text/plain": [
              "[1] 7702   10"
            ]
          },
          "metadata": {}
        }
      ]
    },
    {
      "cell_type": "code",
      "source": [
        "# Print unique year seasons\n",
        "unique(data$year_season)"
      ],
      "metadata": {
        "colab": {
          "base_uri": "https://localhost:8080/",
          "height": 34
        },
        "id": "QqMOEL027bUV",
        "outputId": "22fc816f-7ffe-4ec8-9fa8-bb54467dc327"
      },
      "execution_count": 15,
      "outputs": [
        {
          "output_type": "display_data",
          "data": {
            "text/html": [
              "<style>\n",
              ".list-inline {list-style: none; margin:0; padding: 0}\n",
              ".list-inline>li {display: inline-block}\n",
              ".list-inline>li:not(:last-child)::after {content: \"\\00b7\"; padding: 0 .5ex}\n",
              "</style>\n",
              "<ol class=list-inline><li>'2023'</li><li>'2022'</li><li>'2020'</li><li>'2018'</li><li>'2019'</li><li>'2021'</li><li>'2014'</li><li>'2015'</li><li>'2013'</li><li>'2017'</li><li>'2016'</li><li>'2011'</li><li>'2012'</li><li>'2010'</li><li>'2008'</li><li>'2009'</li></ol>\n"
            ],
            "text/markdown": "1. '2023'\n2. '2022'\n3. '2020'\n4. '2018'\n5. '2019'\n6. '2021'\n7. '2014'\n8. '2015'\n9. '2013'\n10. '2017'\n11. '2016'\n12. '2011'\n13. '2012'\n14. '2010'\n15. '2008'\n16. '2009'\n\n\n",
            "text/latex": "\\begin{enumerate*}\n\\item '2023'\n\\item '2022'\n\\item '2020'\n\\item '2018'\n\\item '2019'\n\\item '2021'\n\\item '2014'\n\\item '2015'\n\\item '2013'\n\\item '2017'\n\\item '2016'\n\\item '2011'\n\\item '2012'\n\\item '2010'\n\\item '2008'\n\\item '2009'\n\\end{enumerate*}\n",
            "text/plain": [
              " [1] \"2023\" \"2022\" \"2020\" \"2018\" \"2019\" \"2021\" \"2014\" \"2015\" \"2013\" \"2017\"\n",
              "[11] \"2016\" \"2011\" \"2012\" \"2010\" \"2008\" \"2009\""
            ]
          },
          "metadata": {}
        }
      ]
    },
    {
      "cell_type": "code",
      "source": [
        "# Filter data\n",
        "data = data[data$year_season == \"2023\", ]\n",
        "\n",
        "# Print data dimensions\n",
        "dim(data)"
      ],
      "metadata": {
        "colab": {
          "base_uri": "https://localhost:8080/",
          "height": 34
        },
        "id": "tM6IRPCa7fZi",
        "outputId": "5fa2a3ac-9e3a-40bf-c9eb-4e70542045b9"
      },
      "execution_count": 16,
      "outputs": [
        {
          "output_type": "display_data",
          "data": {
            "text/html": [
              "<style>\n",
              ".list-inline {list-style: none; margin:0; padding: 0}\n",
              ".list-inline>li {display: inline-block}\n",
              ".list-inline>li:not(:last-child)::after {content: \"\\00b7\"; padding: 0 .5ex}\n",
              "</style>\n",
              "<ol class=list-inline><li>459</li><li>10</li></ol>\n"
            ],
            "text/markdown": "1. 459\n2. 10\n\n\n",
            "text/latex": "\\begin{enumerate*}\n\\item 459\n\\item 10\n\\end{enumerate*}\n",
            "text/plain": [
              "[1] 459  10"
            ]
          },
          "metadata": {}
        }
      ]
    },
    {
      "cell_type": "code",
      "source": [
        "# MenACWY data\n",
        "menacwy = data[data$vaccine == \"≥1 Dose MenACWY\", ]\n",
        "\n",
        "# Print MenACWY data dimensions\n",
        "dim(menacwy)\n",
        "\n",
        "# HPV data\n",
        "hpv = data[data$vaccine == \"HPV\" & data$dose == \"≥1 Dose, Males and Females\", ]\n",
        "\n",
        "# Print HPV data dimensions\n",
        "dim(hpv)\n",
        "\n",
        "# Tetanus data\n",
        "tetanus = data[data$vaccine == \"Tetanus\" & data$dose == \"≥1 Dose Td or Tdap\", ]\n",
        "\n",
        "# Print Tetanus data dimensions\n",
        "dim(tetanus)"
      ],
      "metadata": {
        "colab": {
          "base_uri": "https://localhost:8080/",
          "height": 69
        },
        "id": "jYS-1-WvwS7U",
        "outputId": "a2f05262-6e9a-4830-d247-e63a328f0349"
      },
      "execution_count": 17,
      "outputs": [
        {
          "output_type": "display_data",
          "data": {
            "text/html": [
              "<style>\n",
              ".list-inline {list-style: none; margin:0; padding: 0}\n",
              ".list-inline>li {display: inline-block}\n",
              ".list-inline>li:not(:last-child)::after {content: \"\\00b7\"; padding: 0 .5ex}\n",
              "</style>\n",
              "<ol class=list-inline><li>51</li><li>10</li></ol>\n"
            ],
            "text/markdown": "1. 51\n2. 10\n\n\n",
            "text/latex": "\\begin{enumerate*}\n\\item 51\n\\item 10\n\\end{enumerate*}\n",
            "text/plain": [
              "[1] 51 10"
            ]
          },
          "metadata": {}
        },
        {
          "output_type": "display_data",
          "data": {
            "text/html": [
              "<style>\n",
              ".list-inline {list-style: none; margin:0; padding: 0}\n",
              ".list-inline>li {display: inline-block}\n",
              ".list-inline>li:not(:last-child)::after {content: \"\\00b7\"; padding: 0 .5ex}\n",
              "</style>\n",
              "<ol class=list-inline><li>51</li><li>10</li></ol>\n"
            ],
            "text/markdown": "1. 51\n2. 10\n\n\n",
            "text/latex": "\\begin{enumerate*}\n\\item 51\n\\item 10\n\\end{enumerate*}\n",
            "text/plain": [
              "[1] 51 10"
            ]
          },
          "metadata": {}
        },
        {
          "output_type": "display_data",
          "data": {
            "text/html": [
              "<style>\n",
              ".list-inline {list-style: none; margin:0; padding: 0}\n",
              ".list-inline>li {display: inline-block}\n",
              ".list-inline>li:not(:last-child)::after {content: \"\\00b7\"; padding: 0 .5ex}\n",
              "</style>\n",
              "<ol class=list-inline><li>51</li><li>10</li></ol>\n"
            ],
            "text/markdown": "1. 51\n2. 10\n\n\n",
            "text/latex": "\\begin{enumerate*}\n\\item 51\n\\item 10\n\\end{enumerate*}\n",
            "text/plain": [
              "[1] 51 10"
            ]
          },
          "metadata": {}
        }
      ]
    }
  ]
}