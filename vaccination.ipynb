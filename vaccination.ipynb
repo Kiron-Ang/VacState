{
  "nbformat": 4,
  "nbformat_minor": 0,
  "metadata": {
    "colab": {
      "provenance": [],
      "authorship_tag": "ABX9TyMokN/X6Mwdib0p9tvk84YT",
      "include_colab_link": true
    },
    "kernelspec": {
      "name": "ir",
      "display_name": "R"
    },
    "language_info": {
      "name": "R"
    }
  },
  "cells": [
    {
      "cell_type": "markdown",
      "metadata": {
        "id": "view-in-github",
        "colab_type": "text"
      },
      "source": [
        "<a href=\"https://colab.research.google.com/github/Kiron-Ang/Vaccination/blob/main/vaccination.ipynb\" target=\"_parent\"><img src=\"https://colab.research.google.com/assets/colab-badge.svg\" alt=\"Open In Colab\"/></a>"
      ]
    },
    {
      "cell_type": "code",
      "source": [
        "# Print R version\n",
        "R.version.string\n",
        "\n",
        "# Install RSocrata\n",
        "# github.com/chicago/rsocrata\n",
        "install.packages(\"RSocrata\")"
      ],
      "metadata": {
        "colab": {
          "base_uri": "https://localhost:8080/",
          "height": 142
        },
        "id": "NSG2uA7jp1rj",
        "outputId": "1480e0ac-2122-4658-d477-4706f69760ff"
      },
      "execution_count": 1,
      "outputs": [
        {
          "output_type": "display_data",
          "data": {
            "text/html": [
              "'R version 4.4.1 (2024-06-14)'"
            ],
            "text/markdown": "'R version 4.4.1 (2024-06-14)'",
            "text/latex": "'R version 4.4.1 (2024-06-14)'",
            "text/plain": [
              "[1] \"R version 4.4.1 (2024-06-14)\""
            ]
          },
          "metadata": {}
        },
        {
          "output_type": "stream",
          "name": "stderr",
          "text": [
            "Installing package into ‘/usr/local/lib/R/site-library’\n",
            "(as ‘lib’ is unspecified)\n",
            "\n",
            "also installing the dependency ‘plyr’\n",
            "\n",
            "\n"
          ]
        }
      ]
    },
    {
      "cell_type": "code",
      "source": [
        "# Load RSocrata\n",
        "library(\"RSocrata\")\n",
        "\n",
        "# Read data\n",
        "# dev.socrata.com/foundry/data.cdc.gov/ee48-w5t6\n",
        "# data.cdc.gov/Teen-Vaccinations/Vaccination-Coverage-among-Adolescents-13-17-Years/ee48-w5t6\n",
        "data = read.socrata(\"https://data.cdc.gov/resource/ee48-w5t6.json\")\n",
        "\n",
        "# Print data dimensions\n",
        "dim(data)\n",
        "\n",
        "# Print first 6 data lines\n",
        "head(data)"
      ],
      "metadata": {
        "colab": {
          "base_uri": "https://localhost:8080/",
          "height": 531
        },
        "id": "6MTcOCOgfykg",
        "outputId": "307aff95-97c2-4d27-dd9a-be1770f39843"
      },
      "execution_count": 2,
      "outputs": [
        {
          "output_type": "display_data",
          "data": {
            "text/html": [
              "<style>\n",
              ".list-inline {list-style: none; margin:0; padding: 0}\n",
              ".list-inline>li {display: inline-block}\n",
              ".list-inline>li:not(:last-child)::after {content: \"\\00b7\"; padding: 0 .5ex}\n",
              "</style>\n",
              "<ol class=list-inline><li>27565</li><li>10</li></ol>\n"
            ],
            "text/markdown": "1. 27565\n2. 10\n\n\n",
            "text/latex": "\\begin{enumerate*}\n\\item 27565\n\\item 10\n\\end{enumerate*}\n",
            "text/plain": [
              "[1] 27565    10"
            ]
          },
          "metadata": {}
        },
        {
          "output_type": "display_data",
          "data": {
            "text/html": [
              "<table class=\"dataframe\">\n",
              "<caption>A data.frame: 6 × 10</caption>\n",
              "<thead>\n",
              "\t<tr><th></th><th scope=col>vaccine</th><th scope=col>dose</th><th scope=col>geography_type</th><th scope=col>geography</th><th scope=col>year_season</th><th scope=col>dimension_type</th><th scope=col>dimension</th><th scope=col>coverage_estimate</th><th scope=col>X_95_ci</th><th scope=col>population_sample_size</th></tr>\n",
              "\t<tr><th></th><th scope=col>&lt;chr&gt;</th><th scope=col>&lt;chr&gt;</th><th scope=col>&lt;chr&gt;</th><th scope=col>&lt;chr&gt;</th><th scope=col>&lt;chr&gt;</th><th scope=col>&lt;chr&gt;</th><th scope=col>&lt;chr&gt;</th><th scope=col>&lt;chr&gt;</th><th scope=col>&lt;chr&gt;</th><th scope=col>&lt;chr&gt;</th></tr>\n",
              "</thead>\n",
              "<tbody>\n",
              "\t<tr><th scope=row>1</th><td>HPV            </td><td>≥1 Dose, Males            </td><td>States/Local Areas</td><td>New York</td><td>2023</td><td>Age</td><td>13-17 Years</td><td>81.5</td><td>75.2 to 86.5</td><td>289</td></tr>\n",
              "\t<tr><th scope=row>2</th><td>Tetanus        </td><td>≥1 Dose Tdap              </td><td>States/Local Areas</td><td>New York</td><td>2023</td><td>Age</td><td>13-17 Years</td><td>90.2</td><td>86.8 to 92.8</td><td>559</td></tr>\n",
              "\t<tr><th scope=row>3</th><td>Tetanus        </td><td>≥1 Dose Td or Tdap        </td><td>States/Local Areas</td><td>New York</td><td>2023</td><td>Age</td><td>13-17 Years</td><td>93.6</td><td>90.9 to 95.5</td><td>559</td></tr>\n",
              "\t<tr><th scope=row>4</th><td>≥1 Dose MenACWY</td><td>                          </td><td>States/Local Areas</td><td>New York</td><td>2023</td><td>Age</td><td>13-17 Years</td><td>95.3</td><td>92.7 to 97.0</td><td>559</td></tr>\n",
              "\t<tr><th scope=row>5</th><td>HPV            </td><td>≥1 Dose, Males and Females</td><td>States/Local Areas</td><td>New York</td><td>2023</td><td>Age</td><td>13-17 Years</td><td>79.4</td><td>74.8 to 83.3</td><td>559</td></tr>\n",
              "\t<tr><th scope=row>6</th><td>HPV            </td><td>Up-to-Date, Males         </td><td>States/Local Areas</td><td>New York</td><td>2023</td><td>Age</td><td>13-17 Years</td><td>67.8</td><td>60.8 to 74.2</td><td>289</td></tr>\n",
              "</tbody>\n",
              "</table>\n"
            ],
            "text/markdown": "\nA data.frame: 6 × 10\n\n| <!--/--> | vaccine &lt;chr&gt; | dose &lt;chr&gt; | geography_type &lt;chr&gt; | geography &lt;chr&gt; | year_season &lt;chr&gt; | dimension_type &lt;chr&gt; | dimension &lt;chr&gt; | coverage_estimate &lt;chr&gt; | X_95_ci &lt;chr&gt; | population_sample_size &lt;chr&gt; |\n|---|---|---|---|---|---|---|---|---|---|---|\n| 1 | HPV             | ≥1 Dose, Males             | States/Local Areas | New York | 2023 | Age | 13-17 Years | 81.5 | 75.2 to 86.5 | 289 |\n| 2 | Tetanus         | ≥1 Dose Tdap               | States/Local Areas | New York | 2023 | Age | 13-17 Years | 90.2 | 86.8 to 92.8 | 559 |\n| 3 | Tetanus         | ≥1 Dose Td or Tdap         | States/Local Areas | New York | 2023 | Age | 13-17 Years | 93.6 | 90.9 to 95.5 | 559 |\n| 4 | ≥1 Dose MenACWY | <!----> | States/Local Areas | New York | 2023 | Age | 13-17 Years | 95.3 | 92.7 to 97.0 | 559 |\n| 5 | HPV             | ≥1 Dose, Males and Females | States/Local Areas | New York | 2023 | Age | 13-17 Years | 79.4 | 74.8 to 83.3 | 559 |\n| 6 | HPV             | Up-to-Date, Males          | States/Local Areas | New York | 2023 | Age | 13-17 Years | 67.8 | 60.8 to 74.2 | 289 |\n\n",
            "text/latex": "A data.frame: 6 × 10\n\\begin{tabular}{r|llllllllll}\n  & vaccine & dose & geography\\_type & geography & year\\_season & dimension\\_type & dimension & coverage\\_estimate & X\\_95\\_ci & population\\_sample\\_size\\\\\n  & <chr> & <chr> & <chr> & <chr> & <chr> & <chr> & <chr> & <chr> & <chr> & <chr>\\\\\n\\hline\n\t1 & HPV             & ≥1 Dose, Males             & States/Local Areas & New York & 2023 & Age & 13-17 Years & 81.5 & 75.2 to 86.5 & 289\\\\\n\t2 & Tetanus         & ≥1 Dose Tdap               & States/Local Areas & New York & 2023 & Age & 13-17 Years & 90.2 & 86.8 to 92.8 & 559\\\\\n\t3 & Tetanus         & ≥1 Dose Td or Tdap         & States/Local Areas & New York & 2023 & Age & 13-17 Years & 93.6 & 90.9 to 95.5 & 559\\\\\n\t4 & ≥1 Dose MenACWY &                            & States/Local Areas & New York & 2023 & Age & 13-17 Years & 95.3 & 92.7 to 97.0 & 559\\\\\n\t5 & HPV             & ≥1 Dose, Males and Females & States/Local Areas & New York & 2023 & Age & 13-17 Years & 79.4 & 74.8 to 83.3 & 559\\\\\n\t6 & HPV             & Up-to-Date, Males          & States/Local Areas & New York & 2023 & Age & 13-17 Years & 67.8 & 60.8 to 74.2 & 289\\\\\n\\end{tabular}\n",
            "text/plain": [
              "  vaccine         dose                       geography_type     geography\n",
              "1 HPV             ≥1 Dose, Males             States/Local Areas New York \n",
              "2 Tetanus         ≥1 Dose Tdap               States/Local Areas New York \n",
              "3 Tetanus         ≥1 Dose Td or Tdap         States/Local Areas New York \n",
              "4 ≥1 Dose MenACWY                            States/Local Areas New York \n",
              "5 HPV             ≥1 Dose, Males and Females States/Local Areas New York \n",
              "6 HPV             Up-to-Date, Males          States/Local Areas New York \n",
              "  year_season dimension_type dimension   coverage_estimate X_95_ci     \n",
              "1 2023        Age            13-17 Years 81.5              75.2 to 86.5\n",
              "2 2023        Age            13-17 Years 90.2              86.8 to 92.8\n",
              "3 2023        Age            13-17 Years 93.6              90.9 to 95.5\n",
              "4 2023        Age            13-17 Years 95.3              92.7 to 97.0\n",
              "5 2023        Age            13-17 Years 79.4              74.8 to 83.3\n",
              "6 2023        Age            13-17 Years 67.8              60.8 to 74.2\n",
              "  population_sample_size\n",
              "1 289                   \n",
              "2 559                   \n",
              "3 559                   \n",
              "4 559                   \n",
              "5 559                   \n",
              "6 289                   "
            ]
          },
          "metadata": {}
        }
      ]
    },
    {
      "cell_type": "code",
      "source": [
        "# Print vaccines\n",
        "unique(data$vaccine)"
      ],
      "metadata": {
        "colab": {
          "base_uri": "https://localhost:8080/",
          "height": 34
        },
        "id": "_CF-jnHWvdqo",
        "outputId": "f251793d-655b-4019-b5d9-6e5ed0dce1c1"
      },
      "execution_count": 3,
      "outputs": [
        {
          "output_type": "display_data",
          "data": {
            "text/html": [
              "<style>\n",
              ".list-inline {list-style: none; margin:0; padding: 0}\n",
              ".list-inline>li {display: inline-block}\n",
              ".list-inline>li:not(:last-child)::after {content: \"\\00b7\"; padding: 0 .5ex}\n",
              "</style>\n",
              "<ol class=list-inline><li>'HPV'</li><li>'Tetanus'</li><li>'≥1 Dose MenACWY'</li><li>'≥3 Doses HepB'</li><li>'≥2 Doses MMR'</li><li>'Varicella'</li><li>'≥2 Doses Hep A'</li></ol>\n"
            ],
            "text/markdown": "1. 'HPV'\n2. 'Tetanus'\n3. '≥1 Dose MenACWY'\n4. '≥3 Doses HepB'\n5. '≥2 Doses MMR'\n6. 'Varicella'\n7. '≥2 Doses Hep A'\n\n\n",
            "text/latex": "\\begin{enumerate*}\n\\item 'HPV'\n\\item 'Tetanus'\n\\item '≥1 Dose MenACWY'\n\\item '≥3 Doses HepB'\n\\item '≥2 Doses MMR'\n\\item 'Varicella'\n\\item '≥2 Doses Hep A'\n\\end{enumerate*}\n",
            "text/plain": [
              "[1] \"HPV\"             \"Tetanus\"         \"≥1 Dose MenACWY\" \"≥3 Doses HepB\"  \n",
              "[5] \"≥2 Doses MMR\"    \"Varicella\"       \"≥2 Doses Hep A\" "
            ]
          },
          "metadata": {}
        }
      ]
    },
    {
      "cell_type": "code",
      "source": [
        "# Filter data\n",
        "data = data[data$vaccine %in% c(\"HPV\", \"Tetanus\", \"≥1 Dose MenACWY\"), ]\n",
        "\n",
        "# Print data dimensions\n",
        "dim(data)"
      ],
      "metadata": {
        "colab": {
          "base_uri": "https://localhost:8080/",
          "height": 34
        },
        "id": "XYC2vS9JgpaP",
        "outputId": "c7c672a9-2018-4447-9be0-8af42ac1f6e3"
      },
      "execution_count": 4,
      "outputs": [
        {
          "output_type": "display_data",
          "data": {
            "text/html": [
              "<style>\n",
              ".list-inline {list-style: none; margin:0; padding: 0}\n",
              ".list-inline>li {display: inline-block}\n",
              ".list-inline>li:not(:last-child)::after {content: \"\\00b7\"; padding: 0 .5ex}\n",
              "</style>\n",
              "<ol class=list-inline><li>18953</li><li>10</li></ol>\n"
            ],
            "text/markdown": "1. 18953\n2. 10\n\n\n",
            "text/latex": "\\begin{enumerate*}\n\\item 18953\n\\item 10\n\\end{enumerate*}\n",
            "text/plain": [
              "[1] 18953    10"
            ]
          },
          "metadata": {}
        }
      ]
    },
    {
      "cell_type": "code",
      "source": [
        "# Print vaccines and doses in order\n",
        "unique(data[c(\"vaccine\", \"dose\")][order(data$vaccine), ])"
      ],
      "metadata": {
        "colab": {
          "base_uri": "https://localhost:8080/",
          "height": 599
        },
        "id": "0pNAzpR5mtZM",
        "outputId": "4c8c48ef-5292-4d7b-dd68-aed686773fef"
      },
      "execution_count": 5,
      "outputs": [
        {
          "output_type": "display_data",
          "data": {
            "text/html": [
              "<table class=\"dataframe\">\n",
              "<caption>A data.frame: 16 × 2</caption>\n",
              "<thead>\n",
              "\t<tr><th></th><th scope=col>vaccine</th><th scope=col>dose</th></tr>\n",
              "\t<tr><th></th><th scope=col>&lt;chr&gt;</th><th scope=col>&lt;chr&gt;</th></tr>\n",
              "</thead>\n",
              "<tbody>\n",
              "\t<tr><th scope=row>4</th><td>≥1 Dose MenACWY</td><td>                                                                    </td></tr>\n",
              "\t<tr><th scope=row>1</th><td>HPV            </td><td>≥1 Dose, Males                                                      </td></tr>\n",
              "\t<tr><th scope=row>5</th><td>HPV            </td><td>≥1 Dose, Males and Females                                          </td></tr>\n",
              "\t<tr><th scope=row>6</th><td>HPV            </td><td>Up-to-Date, Males                                                   </td></tr>\n",
              "\t<tr><th scope=row>7</th><td>HPV            </td><td>≥1 Dose, Females                                                    </td></tr>\n",
              "\t<tr><th scope=row>8</th><td>HPV            </td><td>Up-to-Date, Males and Females                                       </td></tr>\n",
              "\t<tr><th scope=row>19</th><td>HPV            </td><td>Up-to-Date, Females                                                 </td></tr>\n",
              "\t<tr><th scope=row>23</th><td>HPV            </td><td>≥2 Doses, Females                                                   </td></tr>\n",
              "\t<tr><th scope=row>82</th><td>HPV            </td><td>≥3 Doses, Females                                                   </td></tr>\n",
              "\t<tr><th scope=row>96</th><td>HPV            </td><td>≥3 Doses, Males and Females                                         </td></tr>\n",
              "\t<tr><th scope=row>243</th><td>HPV            </td><td>≥2 Doses, Males and Females                                         </td></tr>\n",
              "\t<tr><th scope=row>244</th><td>HPV            </td><td>≥2 Doses, Males                                                     </td></tr>\n",
              "\t<tr><th scope=row>419</th><td>HPV            </td><td>≥3 Doses, Males                                                     </td></tr>\n",
              "\t<tr><th scope=row>21687</th><td>HPV            </td><td>Series Completion (3 Dose) Among HPV Vaccination Initiators, Females</td></tr>\n",
              "\t<tr><th scope=row>2</th><td>Tetanus        </td><td>≥1 Dose Tdap                                                        </td></tr>\n",
              "\t<tr><th scope=row>3</th><td>Tetanus        </td><td>≥1 Dose Td or Tdap                                                  </td></tr>\n",
              "</tbody>\n",
              "</table>\n"
            ],
            "text/markdown": "\nA data.frame: 16 × 2\n\n| <!--/--> | vaccine &lt;chr&gt; | dose &lt;chr&gt; |\n|---|---|---|\n| 4 | ≥1 Dose MenACWY | <!----> |\n| 1 | HPV             | ≥1 Dose, Males                                                       |\n| 5 | HPV             | ≥1 Dose, Males and Females                                           |\n| 6 | HPV             | Up-to-Date, Males                                                    |\n| 7 | HPV             | ≥1 Dose, Females                                                     |\n| 8 | HPV             | Up-to-Date, Males and Females                                        |\n| 19 | HPV             | Up-to-Date, Females                                                  |\n| 23 | HPV             | ≥2 Doses, Females                                                    |\n| 82 | HPV             | ≥3 Doses, Females                                                    |\n| 96 | HPV             | ≥3 Doses, Males and Females                                          |\n| 243 | HPV             | ≥2 Doses, Males and Females                                          |\n| 244 | HPV             | ≥2 Doses, Males                                                      |\n| 419 | HPV             | ≥3 Doses, Males                                                      |\n| 21687 | HPV             | Series Completion (3 Dose) Among HPV Vaccination Initiators, Females |\n| 2 | Tetanus         | ≥1 Dose Tdap                                                         |\n| 3 | Tetanus         | ≥1 Dose Td or Tdap                                                   |\n\n",
            "text/latex": "A data.frame: 16 × 2\n\\begin{tabular}{r|ll}\n  & vaccine & dose\\\\\n  & <chr> & <chr>\\\\\n\\hline\n\t4 & ≥1 Dose MenACWY &                                                                     \\\\\n\t1 & HPV             & ≥1 Dose, Males                                                      \\\\\n\t5 & HPV             & ≥1 Dose, Males and Females                                          \\\\\n\t6 & HPV             & Up-to-Date, Males                                                   \\\\\n\t7 & HPV             & ≥1 Dose, Females                                                    \\\\\n\t8 & HPV             & Up-to-Date, Males and Females                                       \\\\\n\t19 & HPV             & Up-to-Date, Females                                                 \\\\\n\t23 & HPV             & ≥2 Doses, Females                                                   \\\\\n\t82 & HPV             & ≥3 Doses, Females                                                   \\\\\n\t96 & HPV             & ≥3 Doses, Males and Females                                         \\\\\n\t243 & HPV             & ≥2 Doses, Males and Females                                         \\\\\n\t244 & HPV             & ≥2 Doses, Males                                                     \\\\\n\t419 & HPV             & ≥3 Doses, Males                                                     \\\\\n\t21687 & HPV             & Series Completion (3 Dose) Among HPV Vaccination Initiators, Females\\\\\n\t2 & Tetanus         & ≥1 Dose Tdap                                                        \\\\\n\t3 & Tetanus         & ≥1 Dose Td or Tdap                                                  \\\\\n\\end{tabular}\n",
            "text/plain": [
              "      vaccine        \n",
              "4     ≥1 Dose MenACWY\n",
              "1     HPV            \n",
              "5     HPV            \n",
              "6     HPV            \n",
              "7     HPV            \n",
              "8     HPV            \n",
              "19    HPV            \n",
              "23    HPV            \n",
              "82    HPV            \n",
              "96    HPV            \n",
              "243   HPV            \n",
              "244   HPV            \n",
              "419   HPV            \n",
              "21687 HPV            \n",
              "2     Tetanus        \n",
              "3     Tetanus        \n",
              "      dose                                                                \n",
              "4                                                                         \n",
              "1     ≥1 Dose, Males                                                      \n",
              "5     ≥1 Dose, Males and Females                                          \n",
              "6     Up-to-Date, Males                                                   \n",
              "7     ≥1 Dose, Females                                                    \n",
              "8     Up-to-Date, Males and Females                                       \n",
              "19    Up-to-Date, Females                                                 \n",
              "23    ≥2 Doses, Females                                                   \n",
              "82    ≥3 Doses, Females                                                   \n",
              "96    ≥3 Doses, Males and Females                                         \n",
              "243   ≥2 Doses, Males and Females                                         \n",
              "244   ≥2 Doses, Males                                                     \n",
              "419   ≥3 Doses, Males                                                     \n",
              "21687 Series Completion (3 Dose) Among HPV Vaccination Initiators, Females\n",
              "2     ≥1 Dose Tdap                                                        \n",
              "3     ≥1 Dose Td or Tdap                                                  "
            ]
          },
          "metadata": {}
        }
      ]
    },
    {
      "cell_type": "code",
      "source": [
        "# MenACWY data\n",
        "menacwy = data[data$vaccine == \"≥1 Dose MenACWY\", ]\n",
        "\n",
        "# Print MenACWY data dimensions\n",
        "dim(menacwy)\n",
        "\n",
        "# HPV data\n",
        "hpv = data[data$vaccine == \"HPV\" & data$dose == \"≥1 Dose, Males and Females\", ]\n",
        "\n",
        "# Print HPV data dimensions\n",
        "dim(hpv)\n",
        "\n",
        "# Tetanus data\n",
        "tetanus = data[data$vaccine == \"Tetanus\" & data$dose == \"≥1 Dose Td or Tdap\", ]\n",
        "\n",
        "# Print Tetanus data dimensions\n",
        "dim(tetanus)"
      ],
      "metadata": {
        "colab": {
          "base_uri": "https://localhost:8080/",
          "height": 69
        },
        "id": "jYS-1-WvwS7U",
        "outputId": "d5bcd0c4-beca-437f-c11b-20c1f5f3eac5"
      },
      "execution_count": 6,
      "outputs": [
        {
          "output_type": "display_data",
          "data": {
            "text/html": [
              "<style>\n",
              ".list-inline {list-style: none; margin:0; padding: 0}\n",
              ".list-inline>li {display: inline-block}\n",
              ".list-inline>li:not(:last-child)::after {content: \"\\00b7\"; padding: 0 .5ex}\n",
              "</style>\n",
              "<ol class=list-inline><li>3213</li><li>10</li></ol>\n"
            ],
            "text/markdown": "1. 3213\n2. 10\n\n\n",
            "text/latex": "\\begin{enumerate*}\n\\item 3213\n\\item 10\n\\end{enumerate*}\n",
            "text/plain": [
              "[1] 3213   10"
            ]
          },
          "metadata": {}
        },
        {
          "output_type": "display_data",
          "data": {
            "text/html": [
              "<style>\n",
              ".list-inline {list-style: none; margin:0; padding: 0}\n",
              ".list-inline>li {display: inline-block}\n",
              ".list-inline>li:not(:last-child)::after {content: \"\\00b7\"; padding: 0 .5ex}\n",
              "</style>\n",
              "<ol class=list-inline><li>1405</li><li>10</li></ol>\n"
            ],
            "text/markdown": "1. 1405\n2. 10\n\n\n",
            "text/latex": "\\begin{enumerate*}\n\\item 1405\n\\item 10\n\\end{enumerate*}\n",
            "text/plain": [
              "[1] 1405   10"
            ]
          },
          "metadata": {}
        },
        {
          "output_type": "display_data",
          "data": {
            "text/html": [
              "<style>\n",
              ".list-inline {list-style: none; margin:0; padding: 0}\n",
              ".list-inline>li {display: inline-block}\n",
              ".list-inline>li:not(:last-child)::after {content: \"\\00b7\"; padding: 0 .5ex}\n",
              "</style>\n",
              "<ol class=list-inline><li>1204</li><li>10</li></ol>\n"
            ],
            "text/markdown": "1. 1204\n2. 10\n\n\n",
            "text/latex": "\\begin{enumerate*}\n\\item 1204\n\\item 10\n\\end{enumerate*}\n",
            "text/plain": [
              "[1] 1204   10"
            ]
          },
          "metadata": {}
        }
      ]
    }
  ]
}